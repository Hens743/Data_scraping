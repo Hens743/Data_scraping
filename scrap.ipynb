import requests
import json
import datetime
import config

# URL of the API endpoint
url = "https://api.openchargemap.io/v3/poi/"

# API key
api_key = config.API_KEY

# Query parameters (adjust these as needed)
querystring = {
    "output": "json",
    "countrycode": "UK",  
    "key": 'api_key',  # API key 
    "maxresults": 200000,
}

# Make the GET request
response = requests.get(url, params=querystring)

# Check for successful response
if response.status_code == 200:
    # Parse JSON response
    data = response.json()

    # Get the current date and time
    current_time = datetime.datetime.now()
    
    # Format the date and time as a string in the format "YYYY-MM-DD_HH-MM-SS"
    time_string = current_time.strftime("%Y-%m-%d_%H-%M-%S")

    # Define the output file path, including the date and time
    country_code = querystring['countrycode']
    output_file_path = f"C:/Users/hensl/Desktop/GCL/output_data_{country_code}_{time_string}.json"

    # Save the data to the specified file
    with open(output_file_path, 'w') as file:
        json.dump(data, file, indent=4)

    print(f"Data saved to {output_file_path}")
else:
    print("Failed to retrieve data: ", response.status_code)

